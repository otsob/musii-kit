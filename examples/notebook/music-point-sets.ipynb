{
 "cells": [
  {
   "cell_type": "markdown",
   "id": "1419f427",
   "metadata": {},
   "source": [
    "# Representing music as a point-set\n",
    "\n",
    "This notebook demonstrates the functionalities in `musii-kit` for handling music as a point-set."
   ]
  },
  {
   "cell_type": "code",
   "execution_count": null,
   "id": "bb4751d2",
   "metadata": {},
   "outputs": [],
   "source": [
    "from musii_kit.point_set import point_set as ps\n",
    "from musii_kit.point_set import point_set_io as ps_io"
   ]
  },
  {
   "cell_type": "markdown",
   "id": "b8f4ba4d",
   "metadata": {},
   "source": [
    "A point-set can be read from a csv file."
   ]
  },
  {
   "cell_type": "code",
   "execution_count": null,
   "id": "71e20795",
   "metadata": {},
   "outputs": [],
   "source": [
    "point_set = ps_io.read_csv('../data/bach_invention_1.csv')\n",
    "point_set.piece_name = 'Bach - Invention I'\n",
    "\n",
    "# Create a pattern from the first 10 point of the point-set.\n",
    "pattern = ps.Pattern(point_set.points_array()[0:10, :], 'A', 'NA')"
   ]
  },
  {
   "cell_type": "markdown",
   "id": "0c324c41",
   "metadata": {},
   "source": [
    "Musii-kit provides utilities for plotting music point-sets. As the point-sets can be quite dense, it's recommended to use interactive plots (with `matplotlib widget`)."
   ]
  },
  {
   "cell_type": "code",
   "execution_count": null,
   "id": "cf88ff49",
   "metadata": {},
   "outputs": [],
   "source": [
    "%matplotlib widget\n",
    "\n",
    "plot = ps.Plot(point_set)\n",
    "\n",
    "# Add measure lines to the plot (assumes 4/4 with no changes in time signatures)\n",
    "plot.measure_lines = range(0, 23)\n",
    "\n",
    "# Add a visualization of the pattern in red\n",
    "plot.add_pattern(pattern, 'r')\n",
    "\n",
    "# Show the plot\n",
    "plot.show()"
   ]
  }
 ],
 "metadata": {
  "kernelspec": {
   "display_name": "musii-kit-0.2",
   "language": "python",
   "name": "musii-kit-0.2"
  },
  "language_info": {
   "codemirror_mode": {
    "name": "ipython",
    "version": 3
   },
   "file_extension": ".py",
   "mimetype": "text/x-python",
   "name": "python",
   "nbconvert_exporter": "python",
   "pygments_lexer": "ipython3",
   "version": "3.10.8"
  }
 },
 "nbformat": 4,
 "nbformat_minor": 5
}
