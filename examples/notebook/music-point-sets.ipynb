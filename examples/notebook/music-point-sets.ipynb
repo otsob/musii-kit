{
 "cells": [
  {
   "cell_type": "markdown",
   "id": "1419f427",
   "metadata": {},
   "source": [
    "# Representing music as a point-set\n",
    "\n",
    "This notebook demonstrates the functionalities in `musii-kit` for handling music as a point-set."
   ]
  },
  {
   "cell_type": "code",
   "execution_count": null,
   "id": "bb4751d2",
   "metadata": {},
   "outputs": [],
   "source": [
    "from musii_kit.point_set import point_set as ps\n",
    "from musii_kit.point_set import point_set_io as ps_io\n",
    "import musii_kit.point_set.visualization as ps_vis\n",
    "from musii_kit.display import Notation"
   ]
  },
  {
   "cell_type": "markdown",
   "id": "b8f4ba4d",
   "metadata": {},
   "source": [
    "A point-set can be read from a MusicXML file."
   ]
  },
  {
   "cell_type": "code",
   "execution_count": null,
   "id": "71e20795",
   "metadata": {},
   "outputs": [],
   "source": [
    "point_set = ps_io.read_musicxml('../data/bach_invention_1.musicxml')\n",
    "\n",
    "# Create a pattern from the first 10 point of the point-set.\n",
    "pattern = ps.Pattern2d.from_numpy(point_set.as_numpy()[0:10, :], 'A', 'NA')"
   ]
  },
  {
   "cell_type": "markdown",
   "id": "0c324c41",
   "metadata": {},
   "source": [
    "### Visualizing point-sets as points\n",
    "Musii-kit provides utilities for plotting music point-sets. As the point-sets can be quite dense, using interactive plots (with `matplotlib widget`) can be helpful."
   ]
  },
  {
   "cell_type": "code",
   "execution_count": null,
   "id": "cf88ff49",
   "metadata": {},
   "outputs": [],
   "source": [
    "plot = ps_vis.Plot(point_set)\n",
    "\n",
    "# Add a visualization of the pattern in red\n",
    "plot.add_pattern(pattern, 'r')\n",
    "\n",
    "# Show the plot\n",
    "plot.show()"
   ]
  },
  {
   "cell_type": "markdown",
   "id": "cd5733e8",
   "metadata": {},
   "source": [
    "### Visualizing point-set patterns on a score\n",
    "\n",
    "Point-set pattern can also be visualized on a score. The point-set needs to be created from a MusicXML file or a music21 score for the notes to be available."
   ]
  },
  {
   "cell_type": "code",
   "execution_count": null,
   "id": "b967861a",
   "metadata": {},
   "outputs": [],
   "source": [
    "# Create a point-set score visualization\n",
    "ps_score = ps_vis.ScoreVisualization(point_set)\n",
    "\n",
    "# Mark the pattern in red\n",
    "ps_score.mark_pattern(pattern, 'red')\n",
    "\n",
    "# Show the score with the pattern notes in red.\n",
    "Notation(ps_score.score)"
   ]
  },
  {
   "cell_type": "code",
   "execution_count": null,
   "id": "a8f9b49c",
   "metadata": {},
   "outputs": [],
   "source": [
    "# Or just the selection of measures that are marked in the score\n",
    "Notation(ps_score.get_selection())"
   ]
  },
  {
   "cell_type": "markdown",
   "id": "a6597863",
   "metadata": {},
   "source": [
    "### Searching for pattern occurrences\n",
    "\n",
    "Point-set patterns can be used as search queries, and all translationally equivalent occurrences can be found."
   ]
  },
  {
   "cell_type": "code",
   "execution_count": null,
   "id": "17af0a8f",
   "metadata": {},
   "outputs": [],
   "source": [
    "from musii_kit.pattern_search.matching import find_occurrences\n",
    "\n",
    "results = find_occurrences(pattern, point_set)\n",
    "print('Found', len(results.occurrences), 'occurrences of the pattern')\n",
    "\n",
    "# Visualize the search results on a score\n",
    "\n",
    "# Reset the previous visualization. Alternatively a new ScoreVisualization can be created.\n",
    "ps_score.reset()\n",
    "\n",
    "# Do not mark the query but mark the occurrencences alternating in red an blue\n",
    "ps_score.mark_occurrences(results, pattern_color=None, occurrence_colors=['red', 'blue'])\n",
    "Notation(ps_score.score)"
   ]
  },
  {
   "cell_type": "code",
   "execution_count": null,
   "id": "f64d30fa",
   "metadata": {},
   "outputs": [],
   "source": [
    "# Partial matches of the query can also be searched by setting the minimum number\n",
    "# of points (notes) that must match.\n",
    "results = find_occurrences(pattern, point_set, min_match_size=6)\n",
    "print('Found', len(results.occurrences), 'occurrences of the pattern')\n",
    "\n",
    "ps_score.reset()\n",
    "\n",
    "ps_score.mark_occurrences(results, pattern_color=None, occurrence_colors=['red', 'blue', 'green'])\n",
    "Notation(ps_score.score)"
   ]
  }
 ],
 "metadata": {
  "kernelspec": {
   "display_name": "musii-kit-0.5",
   "language": "python",
   "name": "musii-kit-0.5"
  },
  "language_info": {
   "codemirror_mode": {
    "name": "ipython",
    "version": 3
   },
   "file_extension": ".py",
   "mimetype": "text/x-python",
   "name": "python",
   "nbconvert_exporter": "python",
   "pygments_lexer": "ipython3",
   "version": "3.11.9"
  }
 },
 "nbformat": 4,
 "nbformat_minor": 5
}
