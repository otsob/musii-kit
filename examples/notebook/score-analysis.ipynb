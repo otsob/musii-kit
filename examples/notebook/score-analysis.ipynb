{
 "cells": [
  {
   "cell_type": "markdown",
   "id": "fb3cb92c",
   "metadata": {},
   "source": [
    "# Score analysis\n",
    "\n",
    "This notebook gives a simple example of how to analyse scores using the tools contained in MusiiKit."
   ]
  },
  {
   "cell_type": "code",
   "execution_count": null,
   "id": "ba3cf030",
   "metadata": {},
   "outputs": [],
   "source": [
    "# Dependencies and initializing visualiser (requires MuseScore to be installed)\n",
    "import musii_kit.score_visualizer.visualizer as vis\n",
    "import music21 as m21\n",
    "import matplotlib.pyplot as plt\n",
    "import numpy as np\n",
    "\n",
    "# This is required for setting the backend for creating the music notation\n",
    "# visualizations. You may need to give the path as parameter to the set visualizer\n",
    "# function if the defaults (macOS specific) don't work.\n",
    "\n",
    "# Lilypond visualizer\n",
    "vis.set_lilypond_visualizer()\n",
    "\n",
    "# Alternatively: MuseScore as visualizer\n",
    "# vis.set_muse_score_visualizer()"
   ]
  },
  {
   "cell_type": "markdown",
   "id": "ff884f39",
   "metadata": {},
   "source": [
    "### Visualizing music21 notation\n",
    "The example below shows how to visualize music21 notation."
   ]
  },
  {
   "cell_type": "code",
   "execution_count": null,
   "id": "fde3da37",
   "metadata": {},
   "outputs": [],
   "source": [
    "s = m21.stream.Stream()\n",
    "s.append(m21.note.Note('d', quarterLength=0.5))\n",
    "s.append(m21.note.Note('e', quarterLength=0.5))\n",
    "s.append(m21.note.Note('f', quarterLength=0.5))\n",
    "s.append(m21.note.Note('g', quarterLength=0.5))\n",
    "s.append(m21.note.Note('e', quarterLength=1.0))\n",
    "s.append(m21.note.Note('c', quarterLength=0.5))\n",
    "s.append(m21.note.Note('d', quarterLength=1.5))\n",
    "\n",
    "vis.visualize(s)"
   ]
  },
  {
   "cell_type": "markdown",
   "id": "6c7e6279",
   "metadata": {},
   "source": [
    "### Loading a score\n",
    "The example below requires you to fill in the path to the MusicXML score."
   ]
  },
  {
   "cell_type": "code",
   "execution_count": null,
   "id": "8f37d340",
   "metadata": {},
   "outputs": [],
   "source": [
    "# Set path\n",
    "path = ' '\n",
    "score = m21.converter.parse(path)\n",
    "selection = score.measures(1, 2)\n",
    "\n",
    "# Display just first two measures\n",
    "vis.visualize(selection)"
   ]
  },
  {
   "cell_type": "markdown",
   "id": "a560f64f",
   "metadata": {},
   "source": [
    "### Plotting chromagrams\n",
    "This example shows how to plot a chromagram from the first two measures"
   ]
  },
  {
   "cell_type": "code",
   "execution_count": null,
   "id": "17740616",
   "metadata": {},
   "outputs": [],
   "source": [
    "chromagram = m21.analysis.pitchAnalysis.pitchAttributeCount(selection, 'pitchClass')\n",
    "plt.bar(chromagram.keys(), chromagram.values(), color=['y', 'r', 'b', 'g'])\n",
    "plt.xticks(np.arange(12))\n",
    "plt.ylabel('Count')\n",
    "plt.xlabel('Pitch class')\n",
    "plt.show()"
   ]
  }
 ],
 "metadata": {
  "kernelspec": {
   "display_name": "musii-kit-0.1",
   "language": "python",
   "name": "musii-kit-0.1"
  },
  "language_info": {
   "codemirror_mode": {
    "name": "ipython",
    "version": 3
   },
   "file_extension": ".py",
   "mimetype": "text/x-python",
   "name": "python",
   "nbconvert_exporter": "python",
   "pygments_lexer": "ipython3",
   "version": "3.10.8"
  }
 },
 "nbformat": 4,
 "nbformat_minor": 5
}
